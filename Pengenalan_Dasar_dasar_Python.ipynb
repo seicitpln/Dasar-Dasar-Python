{
  "nbformat": 4,
  "nbformat_minor": 0,
  "metadata": {
    "colab": {
      "provenance": [],
      "collapsed_sections": [
        "aWufQK3hd9vW",
        "3ujg8D34gVTN",
        "itnrjsZ2g8Zj",
        "eI52OW8-eDsm",
        "gq3Q58QLhtDk"
      ]
    },
    "kernelspec": {
      "name": "python3",
      "display_name": "Python 3"
    },
    "language_info": {
      "name": "python"
    }
  },
  "cells": [
    {
      "cell_type": "markdown",
      "source": [
        "# Data Types and Variables"
      ],
      "metadata": {
        "id": "aWufQK3hd9vW"
      }
    },
    {
      "cell_type": "markdown",
      "source": [
        "## Numbers"
      ],
      "metadata": {
        "id": "qGYv6uMBdiGo"
      }
    },
    {
      "cell_type": "code",
      "execution_count": null,
      "metadata": {
        "colab": {
          "base_uri": "https://localhost:8080/"
        },
        "id": "jLae8x3pXhQL",
        "outputId": "4aa97ef6-2b6d-47df-96de-11d66066dd6c"
      },
      "outputs": [
        {
          "output_type": "stream",
          "name": "stdout",
          "text": [
            "10\n",
            "-3000\n",
            "123456789\n",
            "-16000\n",
            "1.00000000005\n",
            "-85.6701\n"
          ]
        }
      ],
      "source": [
        "print(10)\n",
        "print(-3000)\n",
        "\n",
        "# Print variable angka\n",
        "num = 123456789\n",
        "print(num)\n",
        "num = -16000\n",
        "print(num)\n",
        "\n",
        "# Print Variable Desimals\n",
        "print(1.00000000005)\n",
        "print(-85.6701)\n"
      ]
    },
    {
      "cell_type": "markdown",
      "source": [
        "## Strings"
      ],
      "metadata": {
        "id": "jAQscAfrdy4C"
      }
    },
    {
      "cell_type": "code",
      "source": [
        "# Pengenalan Python String\n",
        "print(\"Harry Potter!\")\n",
        "\n",
        "# Print text\n",
        "got = 'Game of Thrones...'\n",
        "print(got)\n",
        "print(\"$\")\n",
        "\n",
        "# Print text Kosong\n",
        "empty = \"\"\n",
        "print(empty)\n",
        "\n",
        "# Print paragraf\n",
        "multiple_lines = '''Triple quotes allows\n",
        "multi-line string.'''\n",
        "print(multiple_lines)"
      ],
      "metadata": {
        "colab": {
          "base_uri": "https://localhost:8080/"
        },
        "id": "X8wXK9DPYZMc",
        "outputId": "208aa41b-f708-4808-d989-cadc461ed8f3"
      },
      "execution_count": null,
      "outputs": [
        {
          "output_type": "stream",
          "name": "stdout",
          "text": [
            "Harry Potter!\n",
            "Game of Thrones...\n",
            "$\n",
            "\n",
            "Triple quotes allows\n",
            "multi-line string.\n"
          ]
        }
      ]
    },
    {
      "cell_type": "markdown",
      "source": [
        "## Boolean"
      ],
      "metadata": {
        "id": "1y3OQLMVd5cn"
      }
    },
    {
      "cell_type": "code",
      "source": [
        "#Print boolean\n",
        "print(True)\n",
        "\n",
        "#Print Bolean jika dijadikan variable\n",
        "f_bool = False\n",
        "print(f_bool)"
      ],
      "metadata": {
        "colab": {
          "base_uri": "https://localhost:8080/"
        },
        "id": "hVg3wCwBYshp",
        "outputId": "ad74cc9c-3d37-417e-ef5f-518a6d56a926"
      },
      "execution_count": null,
      "outputs": [
        {
          "output_type": "stream",
          "name": "stdout",
          "text": [
            "True\n",
            "False\n"
          ]
        }
      ]
    },
    {
      "cell_type": "markdown",
      "source": [
        "# Operators"
      ],
      "metadata": {
        "id": "3ujg8D34gVTN"
      }
    },
    {
      "cell_type": "markdown",
      "source": [
        "## Arithmetic Operators"
      ],
      "metadata": {
        "id": "p_khkWsRgce2"
      }
    },
    {
      "cell_type": "code",
      "source": [
        "print(10 + 5) \n",
        "print(10 - 5)\n",
        "print(40 * 10)\n",
        "print(40 / 10)\n",
        "print(43 // 10) #dividen (tanpa koma)\n",
        "print(10 % 2) #Modulus (sisa Bagi)\n",
        "print(10 - 3 * 2)\n",
        "print((10 - 3) * 2) #Pengerjaan didahululan dalam kurung"
      ],
      "metadata": {
        "colab": {
          "base_uri": "https://localhost:8080/"
        },
        "id": "3WrjUkH3eJcN",
        "outputId": "22e52e5e-5e23-41fa-eef9-de3791b95a50"
      },
      "execution_count": null,
      "outputs": [
        {
          "output_type": "stream",
          "name": "stdout",
          "text": [
            "15\n",
            "5\n",
            "400\n",
            "4.0\n",
            "4\n",
            "0\n",
            "4\n",
            "14\n"
          ]
        }
      ]
    },
    {
      "cell_type": "markdown",
      "source": [
        "## Comparison Operators"
      ],
      "metadata": {
        "id": "MZCl7XUJgff0"
      }
    },
    {
      "cell_type": "code",
      "source": [
        "#Perbandingan, dalam case ini akan dikembalikan benar/salah alias boolean\n",
        "num1 = 5\n",
        "num2 = 10\n",
        "num3 = 10\n",
        "list1 = [6,7,8]\n",
        "list2 = [6,7,8]\n",
        "\n",
        "print(num2 > num1)\n",
        "print(num1 > num2)\n",
        "\n",
        "print(num2 == num3)\n",
        "print(num3 != num1)\n",
        "\n",
        "print(3 + 10 == 5 + 5)\n",
        "print(3 <= 2)\n",
        "\n",
        "print(num2 is not num3)\n",
        "print(list1 is list2)"
      ],
      "metadata": {
        "colab": {
          "base_uri": "https://localhost:8080/"
        },
        "id": "sZQ0TTypedP1",
        "outputId": "a9729141-6ba3-4270-b7a2-4414ed460f8e"
      },
      "execution_count": null,
      "outputs": [
        {
          "output_type": "stream",
          "name": "stdout",
          "text": [
            "True\n",
            "False\n",
            "True\n",
            "True\n",
            "False\n",
            "False\n",
            "False\n",
            "False\n"
          ]
        }
      ]
    },
    {
      "cell_type": "markdown",
      "source": [
        "## Assignment Operators"
      ],
      "metadata": {
        "id": "8ipnLGBdglp3"
      }
    },
    {
      "cell_type": "code",
      "source": [
        "num = 10\n",
        "print(num)\n",
        "\n",
        "num += 5 # num = 5 + num\n",
        "print(num)\n",
        "\n",
        "num -= 5 # num = 5 - num\n",
        "print(num)\n",
        "\n",
        "num *= 2 # num = 5 * num\n",
        "print(num)\n",
        "\n",
        "num /= 2 # num = 5 / num\n",
        "print(num)\n",
        "\n",
        "num **= 2 # num = 5 ^ num (pangkat0=)\n",
        "print(num)"
      ],
      "metadata": {
        "colab": {
          "base_uri": "https://localhost:8080/"
        },
        "id": "i8ZOb5CSgBMN",
        "outputId": "a4790d55-df99-4d51-d372-5a3bf6347cf4"
      },
      "execution_count": null,
      "outputs": [
        {
          "output_type": "stream",
          "name": "stdout",
          "text": [
            "10\n",
            "15\n",
            "10\n",
            "20\n",
            "10.0\n",
            "100.0\n"
          ]
        }
      ]
    },
    {
      "cell_type": "markdown",
      "source": [
        "## Logical Operators"
      ],
      "metadata": {
        "id": "ndJ_W5xtgriZ"
      }
    },
    {
      "cell_type": "code",
      "source": [
        "my_bool = True or False\n",
        "print(my_bool)\n",
        "\n",
        "my_bool = True and False\n",
        "print(my_bool)\n",
        "\n",
        "my_bool = False\n",
        "print(not my_bool)"
      ],
      "metadata": {
        "colab": {
          "base_uri": "https://localhost:8080/"
        },
        "id": "wF0yXujtiB-b",
        "outputId": "387d726d-4a09-4df5-d571-367db9f2f61e"
      },
      "execution_count": null,
      "outputs": [
        {
          "output_type": "stream",
          "name": "stdout",
          "text": [
            "True\n",
            "False\n",
            "True\n"
          ]
        }
      ]
    },
    {
      "cell_type": "markdown",
      "source": [
        "# Function"
      ],
      "metadata": {
        "id": "itnrjsZ2g8Zj"
      }
    },
    {
      "cell_type": "markdown",
      "source": [
        "## Function Creation"
      ],
      "metadata": {
        "id": "zMBjLPhwhNIV"
      }
    },
    {
      "cell_type": "code",
      "source": [
        "def minimum(first, second):\n",
        "  if(first < second):\n",
        "    return first\n",
        "  return second\n",
        "\n",
        "num1 = 10\n",
        "num2 = 20\n",
        "\n",
        "result = minimum(num1, num2)\n",
        "print(result)"
      ],
      "metadata": {
        "colab": {
          "base_uri": "https://localhost:8080/"
        },
        "id": "n5Ve4SQLk2KL",
        "outputId": "784d2bbe-7dde-4e8d-e621-fcb79bbd7c3c"
      },
      "execution_count": null,
      "outputs": [
        {
          "output_type": "stream",
          "name": "stdout",
          "text": [
            "10\n"
          ]
        }
      ]
    },
    {
      "cell_type": "markdown",
      "source": [
        "## Lambda"
      ],
      "metadata": {
        "id": "PwlKpuNchWBG"
      }
    },
    {
      "cell_type": "code",
      "source": [
        "triple = lambda num : num * 3\n",
        "\n",
        "print(triple(10))"
      ],
      "metadata": {
        "colab": {
          "base_uri": "https://localhost:8080/"
        },
        "id": "ZUJvUHTMlWAj",
        "outputId": "1b3eb2e6-06b3-4866-9b9d-25fa72b69e8f"
      },
      "execution_count": null,
      "outputs": [
        {
          "output_type": "stream",
          "name": "stdout",
          "text": [
            "30\n"
          ]
        }
      ]
    },
    {
      "cell_type": "markdown",
      "source": [
        "## Function as argument"
      ],
      "metadata": {
        "id": "UTCX3TYHhaju"
      }
    },
    {
      "cell_type": "code",
      "source": [
        "def add(n1, n2):\n",
        "  return n1 + n2\n",
        "\n",
        "def subtract(n1, n2):\n",
        "  return n1 - n2\n",
        "\n",
        "def multiply(n1, n2):\n",
        "  return n1 * n2\n",
        "\n",
        "def divide(n1, n2):\n",
        "  return n1 / n2\n",
        "\n",
        "def calculator(operation, n1, n2):\n",
        "  return operation(n1, n2)\n",
        "\n",
        "result = calculator(multiply, 10, 20)\n",
        "print(result)\n",
        "print(calculator(add, 10, 20))"
      ],
      "metadata": {
        "colab": {
          "base_uri": "https://localhost:8080/"
        },
        "id": "5af3UjdHlc1X",
        "outputId": "f5438427-89a6-481a-e51f-6e1a4aff8f28"
      },
      "execution_count": null,
      "outputs": [
        {
          "output_type": "stream",
          "name": "stdout",
          "text": [
            "200\n",
            "30\n"
          ]
        }
      ]
    },
    {
      "cell_type": "markdown",
      "source": [
        "# Data Structures"
      ],
      "metadata": {
        "id": "eI52OW8-eDsm"
      }
    },
    {
      "cell_type": "markdown",
      "source": [
        "## List"
      ],
      "metadata": {
        "id": "IZ28XgXCeHua"
      }
    },
    {
      "cell_type": "code",
      "source": [
        "jon_snow = [\"Jon Snow\", \"Winterfell\", 30]\n",
        "print(jon_snow)\n",
        "\n",
        "# Indexing\n",
        "print(jon_snow[0])\n",
        "\n",
        "# Length\n",
        "print(len(jon_snow))\n",
        "\n",
        "# Lists are mutable\n",
        "jon_snow[2] += 3\n",
        "print(jon_snow[2])"
      ],
      "metadata": {
        "colab": {
          "base_uri": "https://localhost:8080/"
        },
        "id": "NLGpMgnRYxqY",
        "outputId": "814fad49-decb-4661-f936-fe465bbaeb03"
      },
      "execution_count": null,
      "outputs": [
        {
          "output_type": "stream",
          "name": "stdout",
          "text": [
            "['Jon Snow', 'Winterfell', 30]\n",
            "Jon Snow\n",
            "3\n",
            "33\n"
          ]
        }
      ]
    },
    {
      "cell_type": "markdown",
      "source": [
        "### Common List Operations"
      ],
      "metadata": {
        "id": "NM20ZqhYe3yL"
      }
    },
    {
      "cell_type": "code",
      "source": [
        "# Addition\n",
        "num_list = []\n",
        "num_list.append(1)\n",
        "num_list.append(2)\n",
        "num_list.append(3)\n",
        "print(num_list)\n",
        "\n",
        "# Removal\n",
        "last_num = num_list.pop()\n",
        "print(last_num)\n",
        "print(num_list)\n",
        "\n",
        "# Slicing\n",
        "print(num_list[0:])\n",
        "\n",
        "# Index Search\n",
        "cities = [\"London\", \"Paris\", \"Los Angeles\", \"Beirut\"]\n",
        "print(cities.index(\"Los Angeles\"))\n",
        "\n",
        "cities = [\"London\", \"Paris\", \"Los Angeles\", \"Beirut\"]\n",
        "print(\"London\" in cities)\n",
        "print(\"Moscow\" not in cities)\n",
        "\n",
        "# Sorting\n",
        "num_list = [20, 40, 10, 50.4, 30, 100, 5]\n",
        "num_list.sort()\n",
        "print(num_list)\n"
      ],
      "metadata": {
        "colab": {
          "base_uri": "https://localhost:8080/"
        },
        "id": "XVTIQgJSZHVu",
        "outputId": "58b6ce1f-7acf-4acb-c18b-45387e244116"
      },
      "execution_count": null,
      "outputs": [
        {
          "output_type": "stream",
          "name": "stdout",
          "text": [
            "[1, 2, 3]\n",
            "3\n",
            "[1, 2]\n",
            "[1, 2]\n",
            "2\n",
            "True\n",
            "True\n",
            "[5, 10, 20, 30, 40, 50.4, 100]\n"
          ]
        }
      ]
    },
    {
      "cell_type": "markdown",
      "source": [
        "### List Comprehensions"
      ],
      "metadata": {
        "id": "Bzwh0sOUe6J9"
      }
    },
    {
      "cell_type": "code",
      "source": [
        "nums = [10, 20, 30, 40, 50]\n",
        "nums_double = []\n",
        "\n",
        "\n",
        "for n in nums:\n",
        "  nums_double.append(n * 2)\n",
        "\n",
        "nums_triple = [n * 3 for n in nums]\n",
        "\n",
        "print(nums)\n",
        "print(nums_double)\n",
        "print(nums_triple)"
      ],
      "metadata": {
        "colab": {
          "base_uri": "https://localhost:8080/"
        },
        "id": "eZ9hdOEoaS_D",
        "outputId": "ac880013-1a33-43f9-d55e-df9571583d13"
      },
      "execution_count": null,
      "outputs": [
        {
          "output_type": "stream",
          "name": "stdout",
          "text": [
            "[10, 20, 30, 40, 50]\n",
            "[20, 40, 60, 80, 100]\n",
            "[30, 60, 90, 120, 150]\n"
          ]
        }
      ]
    },
    {
      "cell_type": "markdown",
      "source": [
        "## Tuple"
      ],
      "metadata": {
        "id": "KMUPTBI8fIlK"
      }
    },
    {
      "cell_type": "code",
      "source": [
        "car = (\"Ford\", \"Raptor\", 2019, \"Red\")\n",
        "print(car)\n",
        "\n",
        "# Length\n",
        "print(len(car))\n",
        "\n",
        "# Indexing\n",
        "print(car[1])\n",
        "\n",
        "#Slicing\n",
        "print(car[2:])\n",
        "\n",
        "# Merging\n",
        "hero1 = (\"Batman\", \"Bruce Keyne\")\n",
        "hero2 = (\"Wonder Woman\", \"Diana Prince\")\n",
        "\n",
        "plus_tuples = hero1 + hero2\n",
        "print(plus_tuples)\n",
        "\n",
        "nested_tuples = (hero1, hero2)\n",
        "print(nested_tuples)\n",
        "\n",
        "# Search\n",
        "cities = [\"London\", \"Paris\", \"Los Angeles\", \"Tokyo\"]\n",
        "print(\"Moscow\" in cities)\n",
        "print(cities.index(\"Tokyo\"))"
      ],
      "metadata": {
        "colab": {
          "base_uri": "https://localhost:8080/"
        },
        "id": "dk0X88KMao8H",
        "outputId": "da6c2844-2a55-4d91-f428-adb10d2da737"
      },
      "execution_count": null,
      "outputs": [
        {
          "output_type": "stream",
          "name": "stdout",
          "text": [
            "('Ford', 'Raptor', 2019, 'Red')\n",
            "4\n",
            "Raptor\n",
            "(2019, 'Red')\n",
            "('Batman', 'Bruce Keyne', 'Wonder Woman', 'Diana Prince')\n",
            "(('Batman', 'Bruce Keyne'), ('Wonder Woman', 'Diana Prince'))\n",
            "False\n",
            "3\n"
          ]
        }
      ]
    },
    {
      "cell_type": "markdown",
      "source": [
        "## Dictionary"
      ],
      "metadata": {
        "id": "VR3ahWMXfgLT"
      }
    },
    {
      "cell_type": "code",
      "source": [
        "empty_dict = {}\n",
        "print(empty_dict)\n",
        "\n",
        "phone_book = {\"Batman\": 468426,\n",
        "              \"Cersei\": 237734,\n",
        "              \"Ghostbusters\": 44678}\n",
        "print(phone_book)\n",
        "\n",
        "print(phone_book[\"Cersei\"])\n",
        "print(phone_book.get(\"Ghostbusters\"))"
      ],
      "metadata": {
        "colab": {
          "base_uri": "https://localhost:8080/"
        },
        "id": "haPLjVBtapgy",
        "outputId": "d86de247-9bc7-4b11-8629-eb8dcebe4c5f"
      },
      "execution_count": null,
      "outputs": [
        {
          "output_type": "stream",
          "name": "stdout",
          "text": [
            "{}\n",
            "{'Batman': 468426, 'Cersei': 237734, 'Ghostbusters': 44678}\n",
            "237734\n",
            "44678\n"
          ]
        }
      ]
    },
    {
      "cell_type": "markdown",
      "source": [
        "### Common dict operations"
      ],
      "metadata": {
        "id": "IIJ8MwlWfl-6"
      }
    },
    {
      "cell_type": "code",
      "source": [
        "phone_book = {\"Batman\": 468426,\n",
        "              \"Cersei\": 237734,\n",
        "              \"Ghostbusters\": 44678}\n",
        "print(phone_book)\n",
        "\n",
        "# Addition\n",
        "phone_book[\"Godzilla\"] = 46394\n",
        "print(phone_book)\n",
        "\n",
        "# Removal\n",
        "del phone_book[\"Batman\"]\n",
        "print(phone_book)\n",
        "\n",
        "# Length\n",
        "print(len(phone_book))\n",
        "\n",
        "# Check existence\n",
        "print(\"Batman\" in phone_book)\n",
        "print(\"Godzilla\" in phone_book)\n",
        "\n",
        "# Copy content\n",
        "second_phone_book = {\"Catwoman\": 67423, \"Jaime\": 237734, \"Godzilla\": 37623}\n",
        "\n",
        "# Add second_phone_book to phone_book\n",
        "phone_book.update(second_phone_book)\n",
        "print(phone_book)"
      ],
      "metadata": {
        "colab": {
          "base_uri": "https://localhost:8080/"
        },
        "id": "DBpTqoSxb4Az",
        "outputId": "88c7937e-f410-4a0b-b995-7b8b92fe10c2"
      },
      "execution_count": null,
      "outputs": [
        {
          "output_type": "stream",
          "name": "stdout",
          "text": [
            "{'Batman': 468426, 'Cersei': 237734, 'Ghostbusters': 44678}\n",
            "{'Batman': 468426, 'Cersei': 237734, 'Ghostbusters': 44678, 'Godzilla': 46394}\n",
            "{'Cersei': 237734, 'Ghostbusters': 44678, 'Godzilla': 46394}\n",
            "3\n",
            "False\n",
            "True\n",
            "{'Cersei': 237734, 'Ghostbusters': 44678, 'Godzilla': 37623, 'Catwoman': 67423, 'Jaime': 237734}\n"
          ]
        }
      ]
    },
    {
      "cell_type": "markdown",
      "source": [
        "## Set"
      ],
      "metadata": {
        "id": "MhdHYqzpf4NP"
      }
    },
    {
      "cell_type": "code",
      "source": [
        "random_set = {\"bitlabs\", 1408, 3.142, \n",
        "              (True, False)}\n",
        "print(random_set)\n",
        "\n",
        "# Length\n",
        "print(len(random_set))\n",
        "\n",
        "# Addition\n",
        "random_set.add(1)\n",
        "print(random_set)\n",
        "\n",
        "random_set.update([2, 3, 4, 5, 6])\n",
        "print(random_set)\n",
        "\n",
        "# Removal\n",
        "random_set.discard(1408)\n",
        "print(random_set)\n",
        "\n",
        "random_set.remove((True, False))\n",
        "print(random_set)"
      ],
      "metadata": {
        "colab": {
          "base_uri": "https://localhost:8080/"
        },
        "id": "I6HVEspwcvdg",
        "outputId": "e034471b-ff3c-469d-81ef-49a7cb3d95f8"
      },
      "execution_count": null,
      "outputs": [
        {
          "output_type": "stream",
          "name": "stdout",
          "text": [
            "{1408, (True, False), 3.142, 'bitlabs'}\n",
            "4\n",
            "{1408, 1, 3.142, 'bitlabs', (True, False)}\n",
            "{1408, 1, 2, 3.142, 3, 4, 5, 6, 'bitlabs', (True, False)}\n",
            "{1, 2, 3.142, 3, 4, 5, 6, 'bitlabs', (True, False)}\n",
            "{1, 2, 3.142, 3, 4, 5, 6, 'bitlabs'}\n"
          ]
        }
      ]
    },
    {
      "cell_type": "markdown",
      "source": [
        "### Common Set Operations"
      ],
      "metadata": {
        "id": "PCwIeY4zgFdK"
      }
    },
    {
      "cell_type": "code",
      "source": [
        "# Union\n",
        "set_A = {1, 2, 3, 4}\n",
        "set_B = {'a', 'b', 'c', 'd'}\n",
        "\n",
        "print(set_A | set_B)\n",
        "print(set_A.union(set_B))\n",
        "\n",
        "# Intersection\n",
        "set_A = {1, 2, 3, 4}\n",
        "set_B = {2, 8, 4, 16}\n",
        "\n",
        "print(set_A & set_B)\n",
        "print(set_A.intersection(set_B))\n",
        "\n",
        "# Difference\n",
        "print(set_A - set_B)\n",
        "print(set_A.difference(set_B))\n",
        "\n",
        "print(set_B - set_A)\n",
        "print(set_B.difference(set_A))"
      ],
      "metadata": {
        "colab": {
          "base_uri": "https://localhost:8080/"
        },
        "id": "GSqrQISldkoV",
        "outputId": "f8ddd618-ea75-4879-b5b4-6620a80016be"
      },
      "execution_count": null,
      "outputs": [
        {
          "output_type": "stream",
          "name": "stdout",
          "text": [
            "{1, 2, 3, 4, 'c', 'a', 'b', 'd'}\n",
            "{1, 2, 3, 4, 'c', 'a', 'b', 'd'}\n",
            "{2, 4}\n",
            "{2, 4}\n",
            "{1, 3}\n",
            "{1, 3}\n",
            "{8, 16}\n",
            "{8, 16}\n"
          ]
        }
      ]
    },
    {
      "cell_type": "markdown",
      "source": [
        "# Conditional Statements"
      ],
      "metadata": {
        "id": "gq3Q58QLhtDk"
      }
    },
    {
      "cell_type": "markdown",
      "source": [
        "## If"
      ],
      "metadata": {
        "id": "IC2VywYxhxtO"
      }
    },
    {
      "cell_type": "code",
      "source": [
        "num = 5\n",
        "\n",
        "if (num == 5):\n",
        "  print(\"The number is equal to 5\")\n",
        "\n",
        "if num > 5:\n",
        "  print(\"The number is greater than 5\")"
      ],
      "metadata": {
        "colab": {
          "base_uri": "https://localhost:8080/"
        },
        "id": "NpjPxk_8l-1b",
        "outputId": "3850e1d3-e58c-44f3-e4d9-515d3a1a9cb1"
      },
      "execution_count": null,
      "outputs": [
        {
          "output_type": "stream",
          "name": "stdout",
          "text": [
            "The number is equal to 5\n"
          ]
        }
      ]
    },
    {
      "cell_type": "markdown",
      "source": [
        "## If-Else"
      ],
      "metadata": {
        "id": "HNVaGhzIh0An"
      }
    },
    {
      "cell_type": "code",
      "source": [
        "num = 60\n",
        "\n",
        "if num <= 50:\n",
        "  print(\"The number is less than or equal to 50\")\n",
        "else: \n",
        "  print(\"The number is greater than 50\")"
      ],
      "metadata": {
        "colab": {
          "base_uri": "https://localhost:8080/"
        },
        "id": "m1gIimvwmK_P",
        "outputId": "baecf9d3-2506-4251-905b-dd428f5d9b99"
      },
      "execution_count": null,
      "outputs": [
        {
          "output_type": "stream",
          "name": "stdout",
          "text": [
            "The number is greater than 50\n"
          ]
        }
      ]
    },
    {
      "cell_type": "markdown",
      "source": [
        "## If-Elif-Else"
      ],
      "metadata": {
        "id": "buTQihoBh2pd"
      }
    },
    {
      "cell_type": "code",
      "source": [
        "light = \"Red\"\n",
        "\n",
        "if light == \"Green\":\n",
        "  print(\"Go\")\n",
        "\n",
        "elif light == \"Yellow\":\n",
        "  print(\"Caution\")\n",
        "\n",
        "elif light == \"Red\":\n",
        "  print(\"Stop\")\n",
        "\n",
        "else:\n",
        "  print(\"Incorrect light signal\")"
      ],
      "metadata": {
        "colab": {
          "base_uri": "https://localhost:8080/"
        },
        "id": "FFWkeBzSmXWe",
        "outputId": "b0477d61-77a6-470b-8b57-17a7b1f0e818"
      },
      "execution_count": null,
      "outputs": [
        {
          "output_type": "stream",
          "name": "stdout",
          "text": [
            "Stop\n"
          ]
        }
      ]
    },
    {
      "cell_type": "markdown",
      "source": [
        "# Loops"
      ],
      "metadata": {
        "id": "KMrYzvmPi7e2"
      }
    },
    {
      "cell_type": "code",
      "source": [
        "for i in range(1, 11):\n",
        "  if i % 2 == 0:\n",
        "    print(i, \" is even\")\n",
        "  else:\n",
        "    print(i, \" is odd\")"
      ],
      "metadata": {
        "colab": {
          "base_uri": "https://localhost:8080/"
        },
        "id": "VCd97w0-mo9p",
        "outputId": "40348f0e-044b-4afd-dfd4-82faf9f27b8d"
      },
      "execution_count": null,
      "outputs": [
        {
          "output_type": "stream",
          "name": "stdout",
          "text": [
            "1  is odd\n",
            "2  is even\n",
            "3  is odd\n",
            "4  is even\n",
            "5  is odd\n",
            "6  is even\n",
            "7  is odd\n",
            "8  is even\n",
            "9  is odd\n",
            "10  is even\n"
          ]
        }
      ]
    },
    {
      "cell_type": "markdown",
      "source": [
        "## Nested for loop"
      ],
      "metadata": {
        "id": "H34gbs2fjWgw"
      }
    },
    {
      "cell_type": "code",
      "source": [
        "n = 50\n",
        "num_list = [10, 4, 23, 6, 18, 27, 47]\n",
        "\n",
        "for n1 in num_list:\n",
        "  for n2 in num_list:\n",
        "    if(n1 + n2 == n):\n",
        "      print(n1, n2)"
      ],
      "metadata": {
        "colab": {
          "base_uri": "https://localhost:8080/"
        },
        "id": "gDhyvaV3nmXw",
        "outputId": "6d340e66-614c-4fe4-83fd-27cc4838ca2e"
      },
      "execution_count": null,
      "outputs": [
        {
          "output_type": "stream",
          "name": "stdout",
          "text": [
            "23 27\n",
            "27 23\n"
          ]
        }
      ]
    },
    {
      "cell_type": "markdown",
      "source": [
        "## Break"
      ],
      "metadata": {
        "id": "V7yJXZGHjaDl"
      }
    },
    {
      "cell_type": "code",
      "source": [
        "n = 50\n",
        "num_list = [10, 4, 23, 6, 18, 27, 47]\n",
        "found = False\n",
        "\n",
        "for n1 in num_list:\n",
        "  for n2 in num_list:\n",
        "    if(n1 + n2 == n):\n",
        "      found = True\n",
        "      break\n",
        "    \n",
        "    if found:\n",
        "      print(n1, n2)\n",
        "      break"
      ],
      "metadata": {
        "colab": {
          "base_uri": "https://localhost:8080/"
        },
        "id": "Cw00g-eVn1jY",
        "outputId": "9836fa82-8b40-4398-a864-ddbf8cf466fb"
      },
      "execution_count": null,
      "outputs": [
        {
          "output_type": "stream",
          "name": "stdout",
          "text": [
            "6 10\n",
            "18 10\n",
            "27 10\n",
            "47 10\n"
          ]
        }
      ]
    },
    {
      "cell_type": "markdown",
      "source": [
        "## Continue"
      ],
      "metadata": {
        "id": "AZVH264fjbqd"
      }
    },
    {
      "cell_type": "code",
      "source": [
        "num_list = list(range(0, 10))\n",
        "\n",
        "for num in num_list:\n",
        "  if num == 3 or num == 6 or num == 8:\n",
        "    continue\n",
        "  print(num)"
      ],
      "metadata": {
        "colab": {
          "base_uri": "https://localhost:8080/"
        },
        "id": "r7Rh_YiZoQxe",
        "outputId": "8afb860d-b91a-459c-b1d2-fe77a2c7d538"
      },
      "execution_count": null,
      "outputs": [
        {
          "output_type": "stream",
          "name": "stdout",
          "text": [
            "0\n",
            "1\n",
            "2\n",
            "4\n",
            "5\n",
            "7\n",
            "9\n"
          ]
        }
      ]
    },
    {
      "cell_type": "markdown",
      "source": [
        "## While Loop"
      ],
      "metadata": {
        "id": "9NReOXfBjgBn"
      }
    },
    {
      "cell_type": "code",
      "source": [
        "n = 2\n",
        "power = 0\n",
        "val = n\n",
        "while val < 1000:\n",
        "  power += 1\n",
        "  val *= n\n",
        "print(power)"
      ],
      "metadata": {
        "colab": {
          "base_uri": "https://localhost:8080/"
        },
        "id": "jJD0Lk0sot6y",
        "outputId": "66a0a645-35f3-4a80-f245-b5f1c64c4395"
      },
      "execution_count": null,
      "outputs": [
        {
          "output_type": "stream",
          "name": "stdout",
          "text": [
            "9\n"
          ]
        }
      ]
    },
    {
      "cell_type": "code",
      "source": [
        "lst = [0,0,0,1]\n",
        "\n",
        "# any: check if any elements it True\n",
        "print(any(lst))\n",
        "\n",
        "# all: check if all of elements are True\n",
        "print(all(lst))"
      ],
      "metadata": {
        "colab": {
          "base_uri": "https://localhost:8080/"
        },
        "id": "XfvkwdUso3NU",
        "outputId": "ce506051-59e0-4034-fc7c-4946d36048f1"
      },
      "execution_count": null,
      "outputs": [
        {
          "output_type": "stream",
          "name": "stdout",
          "text": [
            "True\n",
            "False\n"
          ]
        }
      ]
    },
    {
      "cell_type": "code",
      "source": [
        "# enumerate\n",
        "my_string = 'abc'\n",
        "for pos, letter in enumerate(my_string):\n",
        "  print(pos, letter)\n",
        "\n",
        "# eval: execute command as tring\n",
        "var = 10\n",
        "source = 'var * 2'\n",
        "print(eval(source))"
      ],
      "metadata": {
        "colab": {
          "base_uri": "https://localhost:8080/"
        },
        "id": "eKzy55YPo9AG",
        "outputId": "fd79faaa-6515-41a4-9277-215a5b619d0f"
      },
      "execution_count": null,
      "outputs": [
        {
          "output_type": "stream",
          "name": "stdout",
          "text": [
            "0 a\n",
            "1 b\n",
            "2 c\n",
            "20\n"
          ]
        }
      ]
    },
    {
      "cell_type": "code",
      "source": [
        "# find\n",
        "random_string = \"This is a string\"\n",
        "print(random_string.find(\"is\"))\n",
        "print(random_string.find(\"is\", 9, 13))\n",
        "\n",
        "# replace\n",
        "a_string = \"Welcome to Bitlabs!\"\n",
        "now_string = a_string.replace(\"Welcome to\", \"Greetings from\")\n",
        "print(a_string)\n",
        "print(now_string)\n",
        "\n",
        "# upper/lowecase\n",
        "print(\"UpperCase\".upper())\n",
        "print(\"LowerCase\".lower())\n",
        "\n",
        "# joining list\n",
        "llist = ['a', 'b', 'c']\n",
        "print('>>'.join(llist))\n",
        "print('<<'.join(llist))\n",
        "print(', '.join(llist))\n",
        "\n",
        "#formatting text\n",
        "string1 = \"Learn Python {version} at {cname}\".format(version = 3, cname = \"Bitlabs\")\n",
        "string2 = \"Learn Python {0} at {1}\".format(3, \"Bitlabs\")\n",
        "string3 = \"Learn Python {} at {}\".format(3, \"Bitlabs\")\n",
        "\n",
        "print(string1)\n",
        "print(string2)\n",
        "print(string3)\n"
      ],
      "metadata": {
        "colab": {
          "base_uri": "https://localhost:8080/"
        },
        "id": "kCNmslwlpPbJ",
        "outputId": "d58e78f3-69b9-473d-b603-18046c197e22"
      },
      "execution_count": null,
      "outputs": [
        {
          "output_type": "stream",
          "name": "stdout",
          "text": [
            "2\n",
            "-1\n",
            "Welcome to Bitlabs!\n",
            "Greetings from Bitlabs!\n",
            "UPPERCASE\n",
            "lowercase\n",
            "a>>b>>c\n",
            "a<<b<<c\n",
            "a, b, c\n",
            "Learn Python 3 at Bitlabs\n",
            "Learn Python 3 at Bitlabs\n",
            "Learn Python 3 at Bitlabs\n"
          ]
        }
      ]
    },
    {
      "cell_type": "code",
      "source": [
        "# filter\n",
        "def less_than_ten(x):\n",
        "  return x < 10\n",
        "\n",
        "my_list = [1, 2, 3, 10, 11, 12]\n",
        "for item in filter(less_than_ten, my_list):\n",
        "  print(item)\n"
      ],
      "metadata": {
        "colab": {
          "base_uri": "https://localhost:8080/"
        },
        "id": "bB8kFpe0qr7N",
        "outputId": "98286a4e-50d0-4d36-937e-1ed216b3618b"
      },
      "execution_count": null,
      "outputs": [
        {
          "output_type": "stream",
          "name": "stdout",
          "text": [
            "1\n",
            "2\n",
            "3\n"
          ]
        }
      ]
    },
    {
      "cell_type": "code",
      "source": [
        "# map\n",
        "def doubler(x):\n",
        "  return x * 2\n",
        "\n",
        "my_list = [1, 2, 3, 4, 5]\n",
        "for item in map(doubler, my_list):\n",
        "  print(item)"
      ],
      "metadata": {
        "colab": {
          "base_uri": "https://localhost:8080/"
        },
        "id": "_0mGDDRMkub3",
        "outputId": "1b5d8d2b-847f-4b68-af21-730e456566ea"
      },
      "execution_count": null,
      "outputs": [
        {
          "output_type": "stream",
          "name": "stdout",
          "text": [
            "2\n",
            "4\n",
            "6\n",
            "8\n",
            "10\n"
          ]
        }
      ]
    },
    {
      "cell_type": "code",
      "source": [
        "# zip\n",
        "keys = ['x', 'y', 'z']\n",
        "values = [5, 6, 7]\n",
        "print(zip(keys, values))\n",
        "print(list(zip(keys, values)))"
      ],
      "metadata": {
        "colab": {
          "base_uri": "https://localhost:8080/"
        },
        "id": "h8dxw2oPrL02",
        "outputId": "ee5166ea-c3ea-4f98-bd20-bfb89febbdf6"
      },
      "execution_count": null,
      "outputs": [
        {
          "output_type": "stream",
          "name": "stdout",
          "text": [
            "<zip object at 0x7fcf50cab460>\n",
            "[('x', 5), ('y', 6), ('z', 7)]\n"
          ]
        }
      ]
    },
    {
      "cell_type": "markdown",
      "source": [
        "# All About Imports"
      ],
      "metadata": {
        "id": "IIuL90gUk-jW"
      }
    },
    {
      "cell_type": "code",
      "source": [
        "# Regular imports\n",
        "import os, sys, time\n",
        "import sys as system\n",
        "import urllib.error"
      ],
      "metadata": {
        "id": "ES6s8pm3lEVI"
      },
      "execution_count": null,
      "outputs": []
    },
    {
      "cell_type": "code",
      "source": [
        "# Using Forms\n",
        "from functools import lru_cache\n",
        "# from . import subpackage1\n",
        "# from . import subpackage2"
      ],
      "metadata": {
        "id": "rhFCqvLirW8_"
      },
      "execution_count": null,
      "outputs": []
    },
    {
      "cell_type": "code",
      "source": [],
      "metadata": {
        "id": "8yRL2RE6lYTF"
      },
      "execution_count": null,
      "outputs": []
    }
  ]
}